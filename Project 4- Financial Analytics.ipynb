{
 "cells": [
  {
   "cell_type": "markdown",
   "id": "4fd7005a",
   "metadata": {},
   "source": [
    "# Project 4- Financial Analytics\n",
    "\n",
    "### Objectives- \n",
    "Without analyzing the competition, it is difficult for a business to survive. You are\n",
    "tasked to analyse the competition for the management to provide better results. This\n",
    "data set has information on the market capitalization of the top 500 companies in India.\n",
    "Serial NumberNameName of CompanyMar Cap – CroreMarket Capitalization in\n",
    "CroresSales Qtr – CroreQuarterly Sale in crores. Find key metrics and factors and\n",
    "show the meaningful relationships between attributes."
   ]
  },
  {
   "cell_type": "code",
   "execution_count": 2,
   "id": "5b402dce",
   "metadata": {},
   "outputs": [],
   "source": [
    "import pandas as pd\n",
    "import numpy as np\n",
    "import matplotlib.pyplot as plt\n",
    "%matplotlib inline\n",
    "import seaborn as sns"
   ]
  },
  {
   "cell_type": "code",
   "execution_count": 3,
   "id": "9dc915e1",
   "metadata": {},
   "outputs": [
    {
     "data": {
      "text/html": [
       "<div>\n",
       "<style scoped>\n",
       "    .dataframe tbody tr th:only-of-type {\n",
       "        vertical-align: middle;\n",
       "    }\n",
       "\n",
       "    .dataframe tbody tr th {\n",
       "        vertical-align: top;\n",
       "    }\n",
       "\n",
       "    .dataframe thead th {\n",
       "        text-align: right;\n",
       "    }\n",
       "</style>\n",
       "<table border=\"1\" class=\"dataframe\">\n",
       "  <thead>\n",
       "    <tr style=\"text-align: right;\">\n",
       "      <th></th>\n",
       "      <th>S.No.</th>\n",
       "      <th>Name</th>\n",
       "      <th>Mar Cap - Crore</th>\n",
       "      <th>Sales Qtr - Crore</th>\n",
       "      <th>Unnamed: 4</th>\n",
       "    </tr>\n",
       "  </thead>\n",
       "  <tbody>\n",
       "    <tr>\n",
       "      <th>0</th>\n",
       "      <td>1</td>\n",
       "      <td>Reliance Inds.</td>\n",
       "      <td>583436.72</td>\n",
       "      <td>99810.00</td>\n",
       "      <td>NaN</td>\n",
       "    </tr>\n",
       "    <tr>\n",
       "      <th>1</th>\n",
       "      <td>2</td>\n",
       "      <td>TCS</td>\n",
       "      <td>563709.84</td>\n",
       "      <td>30904.00</td>\n",
       "      <td>NaN</td>\n",
       "    </tr>\n",
       "    <tr>\n",
       "      <th>2</th>\n",
       "      <td>3</td>\n",
       "      <td>HDFC Bank</td>\n",
       "      <td>482953.59</td>\n",
       "      <td>20581.27</td>\n",
       "      <td>NaN</td>\n",
       "    </tr>\n",
       "  </tbody>\n",
       "</table>\n",
       "</div>"
      ],
      "text/plain": [
       "   S.No.            Name  Mar Cap - Crore  Sales Qtr - Crore  Unnamed: 4\n",
       "0      1  Reliance Inds.        583436.72           99810.00         NaN\n",
       "1      2             TCS        563709.84           30904.00         NaN\n",
       "2      3       HDFC Bank        482953.59           20581.27         NaN"
      ]
     },
     "execution_count": 3,
     "metadata": {},
     "output_type": "execute_result"
    }
   ],
   "source": [
    "df_fin = pd.read_csv('Financial Analytics data.csv')\n",
    "\n",
    "df_fin.head(3)"
   ]
  },
  {
   "cell_type": "code",
   "execution_count": 5,
   "id": "b394a88c",
   "metadata": {},
   "outputs": [
    {
     "data": {
      "text/plain": [
       "(488, 5)"
      ]
     },
     "execution_count": 5,
     "metadata": {},
     "output_type": "execute_result"
    }
   ],
   "source": [
    "df_fin.shape"
   ]
  },
  {
   "cell_type": "code",
   "execution_count": 35,
   "id": "45fb430e",
   "metadata": {},
   "outputs": [
    {
     "data": {
      "text/html": [
       "<div>\n",
       "<style scoped>\n",
       "    .dataframe tbody tr th:only-of-type {\n",
       "        vertical-align: middle;\n",
       "    }\n",
       "\n",
       "    .dataframe tbody tr th {\n",
       "        vertical-align: top;\n",
       "    }\n",
       "\n",
       "    .dataframe thead th {\n",
       "        text-align: right;\n",
       "    }\n",
       "</style>\n",
       "<table border=\"1\" class=\"dataframe\">\n",
       "  <thead>\n",
       "    <tr style=\"text-align: right;\">\n",
       "      <th></th>\n",
       "      <th>Mar Cap - Crore</th>\n",
       "      <th>Sales Qtr - Crore</th>\n",
       "      <th>Quaterly Sale- Crore</th>\n",
       "    </tr>\n",
       "  </thead>\n",
       "  <tbody>\n",
       "    <tr>\n",
       "      <th>count</th>\n",
       "      <td>488.000000</td>\n",
       "      <td>488.000000</td>\n",
       "      <td>488.000000</td>\n",
       "    </tr>\n",
       "    <tr>\n",
       "      <th>mean</th>\n",
       "      <td>27708.961086</td>\n",
       "      <td>3610.168955</td>\n",
       "      <td>860.573443</td>\n",
       "    </tr>\n",
       "    <tr>\n",
       "      <th>std</th>\n",
       "      <td>58963.329098</td>\n",
       "      <td>9684.943920</td>\n",
       "      <td>850.831460</td>\n",
       "    </tr>\n",
       "    <tr>\n",
       "      <th>min</th>\n",
       "      <td>3017.070000</td>\n",
       "      <td>47.240000</td>\n",
       "      <td>0.000000</td>\n",
       "    </tr>\n",
       "    <tr>\n",
       "      <th>25%</th>\n",
       "      <td>4879.612500</td>\n",
       "      <td>725.732500</td>\n",
       "      <td>702.325000</td>\n",
       "    </tr>\n",
       "    <tr>\n",
       "      <th>50%</th>\n",
       "      <td>9885.050000</td>\n",
       "      <td>1278.300000</td>\n",
       "      <td>702.325000</td>\n",
       "    </tr>\n",
       "    <tr>\n",
       "      <th>75%</th>\n",
       "      <td>23400.815000</td>\n",
       "      <td>2084.097500</td>\n",
       "      <td>702.325000</td>\n",
       "    </tr>\n",
       "    <tr>\n",
       "      <th>max</th>\n",
       "      <td>583436.720000</td>\n",
       "      <td>110666.930000</td>\n",
       "      <td>7757.060000</td>\n",
       "    </tr>\n",
       "  </tbody>\n",
       "</table>\n",
       "</div>"
      ],
      "text/plain": [
       "       Mar Cap - Crore  Sales Qtr - Crore  Quaterly Sale- Crore\n",
       "count       488.000000         488.000000            488.000000\n",
       "mean      27708.961086        3610.168955            860.573443\n",
       "std       58963.329098        9684.943920            850.831460\n",
       "min        3017.070000          47.240000              0.000000\n",
       "25%        4879.612500         725.732500            702.325000\n",
       "50%        9885.050000        1278.300000            702.325000\n",
       "75%       23400.815000        2084.097500            702.325000\n",
       "max      583436.720000      110666.930000           7757.060000"
      ]
     },
     "execution_count": 35,
     "metadata": {},
     "output_type": "execute_result"
    }
   ],
   "source": [
    "df_fin.describe()"
   ]
  },
  {
   "cell_type": "markdown",
   "id": "bc13acf5",
   "metadata": {},
   "source": [
    "## Data Preprocessing/Cleaning"
   ]
  },
  {
   "cell_type": "code",
   "execution_count": 7,
   "id": "ed3ce883",
   "metadata": {},
   "outputs": [
    {
     "data": {
      "text/plain": [
       "S.No.                False\n",
       "Name                 False\n",
       "Mar Cap - Crore       True\n",
       "Sales Qtr - Crore     True\n",
       "Unnamed: 4            True\n",
       "dtype: bool"
      ]
     },
     "execution_count": 7,
     "metadata": {},
     "output_type": "execute_result"
    }
   ],
   "source": [
    "df_fin.isnull().any()"
   ]
  },
  {
   "cell_type": "code",
   "execution_count": 13,
   "id": "24dc79a4",
   "metadata": {},
   "outputs": [
    {
     "name": "stdout",
     "output_type": "stream",
     "text": [
      "The null values for Unnmaed coulmn are:  394\n",
      "The null values for Mar cap column are:  9\n",
      "The null values for Sales column are:  123\n"
     ]
    }
   ],
   "source": [
    "print(\"The null values for Unnmaed coulmn are: \",df_fin['Unnamed: 4'].isnull().sum())\n",
    "\n",
    "print(\"The null values for Mar cap column are: \",df_fin['Mar Cap - Crore'].isnull().sum())\n",
    "\n",
    "print(\"The null values for Sales column are: \",df_fin['Sales Qtr - Crore'].isnull().sum())"
   ]
  },
  {
   "cell_type": "code",
   "execution_count": 31,
   "id": "4ac71e8c",
   "metadata": {},
   "outputs": [],
   "source": [
    "df_fin = df_fin.rename(columns={'Unnamed: 4': 'Quaterly Sale- Crore','Name' : 'Name of the Company'})"
   ]
  },
  {
   "cell_type": "code",
   "execution_count": 32,
   "id": "62dfc71d",
   "metadata": {},
   "outputs": [
    {
     "data": {
      "text/plain": [
       "Index(['Name of the Company', 'Mar Cap - Crore', 'Sales Qtr - Crore',\n",
       "       'Quaterly Sale- Crore'],\n",
       "      dtype='object')"
      ]
     },
     "execution_count": 32,
     "metadata": {},
     "output_type": "execute_result"
    }
   ],
   "source": [
    "df_fin.columns"
   ]
  },
  {
   "cell_type": "code",
   "execution_count": 18,
   "id": "351cbcc1",
   "metadata": {},
   "outputs": [
    {
     "name": "stderr",
     "output_type": "stream",
     "text": [
      "D:\\Anaconda\\lib\\site-packages\\seaborn\\distributions.py:2619: FutureWarning: `distplot` is a deprecated function and will be removed in a future version. Please adapt your code to use either `displot` (a figure-level function with similar flexibility) or `histplot` (an axes-level function for histograms).\n",
      "  warnings.warn(msg, FutureWarning)\n"
     ]
    },
    {
     "data": {
      "text/plain": [
       "<AxesSubplot:xlabel='Mar Cap - Crore', ylabel='Density'>"
      ]
     },
     "execution_count": 18,
     "metadata": {},
     "output_type": "execute_result"
    },
    {
     "data": {
      "image/png": "[encoded data removed]",
      "text/plain": [
       "<Figure size 432x288 with 1 Axes>"
      ]
     },
     "metadata": {
      "needs_background": "light"
     },
     "output_type": "display_data"
    }
   ],
   "source": [
    "sns.distplot(df_fin['Mar Cap - Crore'])"
   ]
  },
  {
   "cell_type": "code",
   "execution_count": 21,
   "id": "14445ed4",
   "metadata": {},
   "outputs": [
    {
     "name": "stderr",
     "output_type": "stream",
     "text": [
      "D:\\Anaconda\\lib\\site-packages\\seaborn\\distributions.py:2619: FutureWarning: `distplot` is a deprecated function and will be removed in a future version. Please adapt your code to use either `displot` (a figure-level function with similar flexibility) or `histplot` (an axes-level function for histograms).\n",
      "  warnings.warn(msg, FutureWarning)\n"
     ]
    },
    {
     "data": {
      "text/plain": [
       "<AxesSubplot:xlabel='Sales Qtr - Crore', ylabel='Density'>"
      ]
     },
     "execution_count": 21,
     "metadata": {},
     "output_type": "execute_result"
    },
    {
     "data": {
      "image/png": "[encoded data removed]",
      "text/plain": [
       "<Figure size 432x288 with 1 Axes>"
      ]
     },
     "metadata": {
      "needs_background": "light"
     },
     "output_type": "display_data"
    }
   ],
   "source": [
    "sns.distplot(df_fin['Sales Qtr - Crore'])"
   ]
  },
  {
   "cell_type": "code",
   "execution_count": 22,
   "id": "34669c92",
   "metadata": {},
   "outputs": [
    {
     "name": "stderr",
     "output_type": "stream",
     "text": [
      "D:\\Anaconda\\lib\\site-packages\\seaborn\\distributions.py:2619: FutureWarning: `distplot` is a deprecated function and will be removed in a future version. Please adapt your code to use either `displot` (a figure-level function with similar flexibility) or `histplot` (an axes-level function for histograms).\n",
      "  warnings.warn(msg, FutureWarning)\n"
     ]
    },
    {
     "data": {
      "text/plain": [
       "<AxesSubplot:xlabel='Quaterly Sale- Crore', ylabel='Density'>"
      ]
     },
     "execution_count": 22,
     "metadata": {},
     "output_type": "execute_result"
    },
    {
     "data": {
      "image/png": "[encoded data removed]",
      "text/plain": [
       "<Figure size 432x288 with 1 Axes>"
      ]
     },
     "metadata": {
      "needs_background": "light"
     },
     "output_type": "display_data"
    }
   ],
   "source": [
    "sns.distplot(df_fin['Quaterly Sale- Crore'])"
   ]
  },
  {
   "cell_type": "code",
   "execution_count": 19,
   "id": "745a7ff6",
   "metadata": {},
   "outputs": [
    {
     "name": "stderr",
     "output_type": "stream",
     "text": [
      "C:\\Users\\ADMIN\\AppData\\Local\\Temp\\ipykernel_8888\\1659377371.py:1: FutureWarning: Dropping of nuisance columns in DataFrame reductions (with 'numeric_only=None') is deprecated; in a future version this will raise TypeError.  Select only valid columns before calling the reduction.\n",
      "  df_fin.fillna(df_fin.median(),inplace = True)\n"
     ]
    }
   ],
   "source": [
    "df_fin.fillna(df_fin.median(),inplace = True)"
   ]
  },
  {
   "cell_type": "code",
   "execution_count": 20,
   "id": "5ff3acce",
   "metadata": {},
   "outputs": [
    {
     "data": {
      "text/plain": [
       "S.No.                   0\n",
       "Name                    0\n",
       "Mar Cap - Crore         0\n",
       "Sales Qtr - Crore       0\n",
       "Quaterly Sale- Crore    0\n",
       "dtype: int64"
      ]
     },
     "execution_count": 20,
     "metadata": {},
     "output_type": "execute_result"
    }
   ],
   "source": [
    "df_fin.isnull().sum()"
   ]
  },
  {
   "cell_type": "code",
   "execution_count": 52,
   "id": "d3638c8c",
   "metadata": {},
   "outputs": [
    {
     "data": {
      "text/html": [
       "<div>\n",
       "<style scoped>\n",
       "    .dataframe tbody tr th:only-of-type {\n",
       "        vertical-align: middle;\n",
       "    }\n",
       "\n",
       "    .dataframe tbody tr th {\n",
       "        vertical-align: top;\n",
       "    }\n",
       "\n",
       "    .dataframe thead th {\n",
       "        text-align: right;\n",
       "    }\n",
       "</style>\n",
       "<table border=\"1\" class=\"dataframe\">\n",
       "  <thead>\n",
       "    <tr style=\"text-align: right;\">\n",
       "      <th></th>\n",
       "      <th>Name of the Company</th>\n",
       "      <th>Mar Cap - Crore</th>\n",
       "      <th>Sales Qtr - Crore</th>\n",
       "      <th>Quaterly Sale- Crore</th>\n",
       "    </tr>\n",
       "    <tr>\n",
       "      <th>S.No.</th>\n",
       "      <th></th>\n",
       "      <th></th>\n",
       "      <th></th>\n",
       "      <th></th>\n",
       "    </tr>\n",
       "  </thead>\n",
       "  <tbody>\n",
       "    <tr>\n",
       "      <th>1</th>\n",
       "      <td>Reliance Inds.</td>\n",
       "      <td>583436.72</td>\n",
       "      <td>99810.00</td>\n",
       "      <td>702.325</td>\n",
       "    </tr>\n",
       "    <tr>\n",
       "      <th>2</th>\n",
       "      <td>TCS</td>\n",
       "      <td>563709.84</td>\n",
       "      <td>30904.00</td>\n",
       "      <td>702.325</td>\n",
       "    </tr>\n",
       "    <tr>\n",
       "      <th>3</th>\n",
       "      <td>HDFC Bank</td>\n",
       "      <td>482953.59</td>\n",
       "      <td>20581.27</td>\n",
       "      <td>702.325</td>\n",
       "    </tr>\n",
       "  </tbody>\n",
       "</table>\n",
       "</div>"
      ],
      "text/plain": [
       "      Name of the Company  Mar Cap - Crore  Sales Qtr - Crore  \\\n",
       "S.No.                                                           \n",
       "1          Reliance Inds.        583436.72           99810.00   \n",
       "2                     TCS        563709.84           30904.00   \n",
       "3               HDFC Bank        482953.59           20581.27   \n",
       "\n",
       "       Quaterly Sale- Crore  \n",
       "S.No.                        \n",
       "1                   702.325  \n",
       "2                   702.325  \n",
       "3                   702.325  "
      ]
     },
     "execution_count": 52,
     "metadata": {},
     "output_type": "execute_result"
    }
   ],
   "source": [
    "df_fin.head(3)"
   ]
  },
  {
   "cell_type": "markdown",
   "id": "d607bbcd",
   "metadata": {},
   "source": [
    "### Data Visualization between Name of the company & Mar Cap-Crore and Name of the Company & Sales Qtr- Crore of top 10 Companies."
   ]
  },
  {
   "cell_type": "code",
   "execution_count": 68,
   "id": "6b28840f",
   "metadata": {},
   "outputs": [],
   "source": [
    "df= df_fin.sort_values(by='Mar Cap - Crore', ascending=False)\n",
    "df_top10 = df.head(10)"
   ]
  },
  {
   "cell_type": "code",
   "execution_count": 69,
   "id": "f9277b8d",
   "metadata": {},
   "outputs": [
    {
     "data": {
      "image/png": "[encoded data removed]",
      "text/plain": [
       "<Figure size 1440x576 with 1 Axes>"
      ]
     },
     "metadata": {
      "needs_background": "light"
     },
     "output_type": "display_data"
    }
   ],
   "source": [
    "plt.figure(figsize=(20,8))\n",
    "plt.bar(df_top10['Name of the Company'], df_top10['Mar Cap - Crore'])\n",
    "plt.xlabel('Name of Company')\n",
    "plt.ylabel('Mar Cap – Crore')\n",
    "plt.title('Name of Company vs Mar Cap – Crore')\n",
    "plt.show()"
   ]
  },
  {
   "cell_type": "code",
   "execution_count": 71,
   "id": "9a4c62b3",
   "metadata": {},
   "outputs": [
    {
     "data": {
      "text/html": [
       "<div>\n",
       "<style scoped>\n",
       "    .dataframe tbody tr th:only-of-type {\n",
       "        vertical-align: middle;\n",
       "    }\n",
       "\n",
       "    .dataframe tbody tr th {\n",
       "        vertical-align: top;\n",
       "    }\n",
       "\n",
       "    .dataframe thead th {\n",
       "        text-align: right;\n",
       "    }\n",
       "</style>\n",
       "<table border=\"1\" class=\"dataframe\">\n",
       "  <thead>\n",
       "    <tr style=\"text-align: right;\">\n",
       "      <th></th>\n",
       "      <th>Name of the Company</th>\n",
       "      <th>Mar Cap - Crore</th>\n",
       "      <th>Sales Qtr - Crore</th>\n",
       "      <th>Quaterly Sale- Crore</th>\n",
       "    </tr>\n",
       "    <tr>\n",
       "      <th>S.No.</th>\n",
       "      <th></th>\n",
       "      <th></th>\n",
       "      <th></th>\n",
       "      <th></th>\n",
       "    </tr>\n",
       "  </thead>\n",
       "  <tbody>\n",
       "    <tr>\n",
       "      <th>15</th>\n",
       "      <td>I O C L</td>\n",
       "      <td>178017.48</td>\n",
       "      <td>110666.93</td>\n",
       "      <td>702.325</td>\n",
       "    </tr>\n",
       "    <tr>\n",
       "      <th>1</th>\n",
       "      <td>Reliance Inds.</td>\n",
       "      <td>583436.72</td>\n",
       "      <td>99810.00</td>\n",
       "      <td>702.325</td>\n",
       "    </tr>\n",
       "    <tr>\n",
       "      <th>24</th>\n",
       "      <td>Tata Motors</td>\n",
       "      <td>117071.87</td>\n",
       "      <td>74156.07</td>\n",
       "      <td>702.325</td>\n",
       "    </tr>\n",
       "    <tr>\n",
       "      <th>28</th>\n",
       "      <td>B P C L</td>\n",
       "      <td>98278.00</td>\n",
       "      <td>60616.36</td>\n",
       "      <td>702.325</td>\n",
       "    </tr>\n",
       "    <tr>\n",
       "      <th>55</th>\n",
       "      <td>H P C L</td>\n",
       "      <td>58034.78</td>\n",
       "      <td>57474.25</td>\n",
       "      <td>702.325</td>\n",
       "    </tr>\n",
       "    <tr>\n",
       "      <th>10</th>\n",
       "      <td>St Bk of India</td>\n",
       "      <td>232763.33</td>\n",
       "      <td>57014.08</td>\n",
       "      <td>702.325</td>\n",
       "    </tr>\n",
       "    <tr>\n",
       "      <th>123</th>\n",
       "      <td>Rajesh Exports</td>\n",
       "      <td>23495.54</td>\n",
       "      <td>41304.84</td>\n",
       "      <td>702.325</td>\n",
       "    </tr>\n",
       "    <tr>\n",
       "      <th>41</th>\n",
       "      <td>Tata Steel</td>\n",
       "      <td>73376.14</td>\n",
       "      <td>32464.14</td>\n",
       "      <td>702.325</td>\n",
       "    </tr>\n",
       "    <tr>\n",
       "      <th>2</th>\n",
       "      <td>TCS</td>\n",
       "      <td>563709.84</td>\n",
       "      <td>30904.00</td>\n",
       "      <td>702.325</td>\n",
       "    </tr>\n",
       "    <tr>\n",
       "      <th>14</th>\n",
       "      <td>Larsen &amp; Toubro</td>\n",
       "      <td>180860.74</td>\n",
       "      <td>28747.45</td>\n",
       "      <td>702.325</td>\n",
       "    </tr>\n",
       "  </tbody>\n",
       "</table>\n",
       "</div>"
      ],
      "text/plain": [
       "      Name of the Company  Mar Cap - Crore  Sales Qtr - Crore  \\\n",
       "S.No.                                                           \n",
       "15                I O C L        178017.48          110666.93   \n",
       "1          Reliance Inds.        583436.72           99810.00   \n",
       "24            Tata Motors        117071.87           74156.07   \n",
       "28                B P C L         98278.00           60616.36   \n",
       "55                H P C L         58034.78           57474.25   \n",
       "10         St Bk of India        232763.33           57014.08   \n",
       "123        Rajesh Exports         23495.54           41304.84   \n",
       "41             Tata Steel         73376.14           32464.14   \n",
       "2                     TCS        563709.84           30904.00   \n",
       "14        Larsen & Toubro        180860.74           28747.45   \n",
       "\n",
       "       Quaterly Sale- Crore  \n",
       "S.No.                        \n",
       "15                  702.325  \n",
       "1                   702.325  \n",
       "24                  702.325  \n",
       "28                  702.325  \n",
       "55                  702.325  \n",
       "10                  702.325  \n",
       "123                 702.325  \n",
       "41                  702.325  \n",
       "2                   702.325  \n",
       "14                  702.325  "
      ]
     },
     "execution_count": 71,
     "metadata": {},
     "output_type": "execute_result"
    }
   ],
   "source": [
    "sales= df_fin.sort_values(by='Sales Qtr - Crore', ascending=False)\n",
    "sales_top10 = sales.head(10)\n",
    "sales_top10"
   ]
  },
  {
   "cell_type": "code",
   "execution_count": 72,
   "id": "3a81e1b0",
   "metadata": {},
   "outputs": [
    {
     "data": {
      "image/png": "[encoded data removed]",
      "text/plain": [
       "<Figure size 1440x576 with 1 Axes>"
      ]
     },
     "metadata": {
      "needs_background": "light"
     },
     "output_type": "display_data"
    }
   ],
   "source": [
    "plt.figure(figsize=(20,8))\n",
    "plt.bar(sales_top10['Name of the Company'], sales_top10['Sales Qtr - Crore'])\n",
    "plt.xlabel('Name of Company')\n",
    "plt.ylabel('Sales Qtr - Crore')\n",
    "plt.title('Name of Company vs Sales Qtr - Crore')\n",
    "plt.show()"
   ]
  },
  {
   "cell_type": "code",
   "execution_count": 73,
   "id": "b2ca4535",
   "metadata": {},
   "outputs": [
    {
     "name": "stdout",
     "output_type": "stream",
     "text": [
      "The correlation between Mar Cap - Crore and Sales Qtr - Crore is: 0.6204889718974049\n"
     ]
    }
   ],
   "source": [
    "## Finding the correlating between Mar Cap - Crore & Sales Qtr - Crore using the pearson method.\n",
    "\n",
    "# Calculate the correlation between Mar Cap - Crore and Sales Qtr - Crore\n",
    "correlation = df_fin['Mar Cap - Crore'].corr(df_fin['Sales Qtr - Crore'])\n",
    "\n",
    "print(\"The correlation between Mar Cap - Crore and Sales Qtr - Crore is:\", correlation)"
   ]
  },
  {
   "cell_type": "code",
   "execution_count": 74,
   "id": "d32b5fe6",
   "metadata": {},
   "outputs": [
    {
     "name": "stdout",
     "output_type": "stream",
     "text": [
      "The correlation between Mar Cap - Crore and Sales Qtr - Crore using spearman method is: 0.5560465291681288\n"
     ]
    }
   ],
   "source": [
    "# Calculate the correlation between Mar Cap - Crore and Sales Qtr - Crore using spearman method\n",
    "correlation_spearman = df['Mar Cap - Crore'].corr(df['Sales Qtr - Crore'], method='spearman')\n",
    "\n",
    "print(\"The correlation between Mar Cap - Crore and Sales Qtr - Crore using spearman method is:\", correlation_spearman)"
   ]
  },
  {
   "cell_type": "markdown",
   "id": "33442964",
   "metadata": {},
   "source": [
    "## Analysis from the correlation can be - \n",
    "The correlation coefficient between \"Mar Cap - Crore\" and \"Sales Qtr - Crore\" is 0.6204889718974049. This indicates a moderate positive correlation between the two variables. This means that as the market capitalization of a company increases, its quarterly sales also tend to increase. This makes sense as companies with a higher market capitalization likely have more resources to invest in sales and marketing efforts.\n",
    "The correlation using the spearman method also indicates the same i.e. this also indicates a moderate positive correlation between the two variables."
   ]
  },
  {
   "cell_type": "markdown",
   "id": "796be161",
   "metadata": {},
   "source": [
    "## Company wise analysis: Breaking down the data by company and analyzing the performance of individual companies in terms of Market Capitalization and Sales."
   ]
  },
  {
   "cell_type": "code",
   "execution_count": 155,
   "id": "5fa1e220",
   "metadata": {},
   "outputs": [
    {
     "data": {
      "text/plain": [
       "{'Reliance': 6,\n",
       " 'TCS': 1,\n",
       " 'HDFC': 2,\n",
       " 'ITC': 1,\n",
       " 'H': 4,\n",
       " 'Hind.': 1,\n",
       " 'Maruti': 1,\n",
       " 'Infosys': 1,\n",
       " 'O': 1,\n",
       " 'St': 2,\n",
       " 'ICICI': 3,\n",
       " 'Kotak': 1,\n",
       " 'Coal': 1,\n",
       " 'Larsen': 1,\n",
       " 'I': 4,\n",
       " 'Bharti': 2,\n",
       " 'Axis': 1,\n",
       " 'NTPC': 1,\n",
       " 'Sun': 2,\n",
       " 'Hind.Zinc': 1,\n",
       " 'Wipro': 1,\n",
       " 'HCL': 1,\n",
       " 'Vedanta': 1,\n",
       " 'Tata': 9,\n",
       " 'UltraTech': 1,\n",
       " 'Asian': 1,\n",
       " 'Power': 2,\n",
       " 'B': 2,\n",
       " 'IndusInd': 1,\n",
       " 'Bajaj': 6,\n",
       " 'M': 3,\n",
       " 'Adani': 4,\n",
       " 'GAIL': 1,\n",
       " 'Avenue': 1,\n",
       " 'Titan': 1,\n",
       " 'JSW': 2,\n",
       " 'Grasim': 1,\n",
       " 'Eicher': 1,\n",
       " 'Nestle': 1,\n",
       " 'Godrej': 4,\n",
       " 'Yes': 1,\n",
       " 'Hero': 1,\n",
       " 'Motherson': 1,\n",
       " 'SBI': 1,\n",
       " 'General': 1,\n",
       " 'Dabur': 1,\n",
       " 'Bosch': 1,\n",
       " 'Shree': 1,\n",
       " 'New': 1,\n",
       " 'Britannia': 1,\n",
       " 'Tech': 1,\n",
       " 'Hindalco': 1,\n",
       " 'Zee': 1,\n",
       " 'Cairn': 1,\n",
       " 'Indiabulls': 2,\n",
       " 'Ambuja': 1,\n",
       " 'Interglobe': 1,\n",
       " 'Cipla': 1,\n",
       " 'Piramal': 1,\n",
       " 'United': 2,\n",
       " 'Pidilite': 1,\n",
       " 'Siemens': 1,\n",
       " 'Cadila': 1,\n",
       " 'NMDC': 1,\n",
       " 'DLF': 1,\n",
       " 'Marico': 1,\n",
       " 'Ashok': 1,\n",
       " 'Bharat': 2,\n",
       " 'Lupin': 1,\n",
       " 'Petronet': 1,\n",
       " 'Aditya': 3,\n",
       " 'Dr': 2,\n",
       " 'S': 4,\n",
       " 'UPL': 1,\n",
       " 'Oracle': 1,\n",
       " 'Biocon': 1,\n",
       " 'Aurobindo': 1,\n",
       " 'Bank': 2,\n",
       " 'Idea': 1,\n",
       " 'A': 1,\n",
       " 'Havells': 1,\n",
       " 'Container': 1,\n",
       " 'TVS': 1,\n",
       " 'ACC': 1,\n",
       " 'P': 2,\n",
       " 'MRF': 1,\n",
       " 'Shriram': 2,\n",
       " 'Colgate-Palm.': 1,\n",
       " 'L&T': 2,\n",
       " 'Punjab': 1,\n",
       " 'NHPC': 1,\n",
       " 'Oil': 1,\n",
       " 'Rural': 1,\n",
       " 'GlaxoSmith': 1,\n",
       " \"Divi's\": 1,\n",
       " 'Kansai': 1,\n",
       " 'Alkem': 1,\n",
       " 'LIC': 1,\n",
       " 'Future': 3,\n",
       " 'Page': 1,\n",
       " 'Dalmia': 1,\n",
       " 'IIFL': 1,\n",
       " 'L': 2,\n",
       " 'Emami': 1,\n",
       " 'Cummins': 1,\n",
       " 'Berger': 1,\n",
       " 'Rajesh': 1,\n",
       " '3M': 1,\n",
       " 'Jindal': 4,\n",
       " 'Edelweiss.Fin.': 1,\n",
       " 'Gillette': 1,\n",
       " 'Balkrishna': 1,\n",
       " 'Cholaman.Inv.&Fn': 1,\n",
       " 'Indraprastha': 1,\n",
       " 'Glaxosmi.': 1,\n",
       " 'PNB': 1,\n",
       " 'RBL': 1,\n",
       " 'Castrol': 1,\n",
       " 'Canara': 1,\n",
       " 'GRUH': 1,\n",
       " 'KIOCL': 1,\n",
       " 'Voltas': 1,\n",
       " 'Whirlpool': 1,\n",
       " 'Sundaram': 2,\n",
       " 'Federal': 1,\n",
       " 'Endurance': 1,\n",
       " 'Exide': 1,\n",
       " 'IDFC': 1,\n",
       " 'NBCC': 1,\n",
       " 'IDBI': 1,\n",
       " 'The': 1,\n",
       " 'Dewan': 1,\n",
       " 'MphasiS': 1,\n",
       " 'Apollo': 1,\n",
       " 'AU': 1,\n",
       " 'Indian': 3,\n",
       " 'Motil.Oswal.Fin.': 1,\n",
       " 'Oberoi': 1,\n",
       " 'SJVN': 1,\n",
       " 'Supreme': 2,\n",
       " 'Muthoot': 1,\n",
       " 'NLC': 1,\n",
       " 'Info': 1,\n",
       " 'Glenmark': 1,\n",
       " 'Jubilant': 2,\n",
       " 'Crompton': 1,\n",
       " 'Honeywell': 1,\n",
       " 'Natco': 1,\n",
       " 'PC': 1,\n",
       " 'Quess': 1,\n",
       " 'CRISIL': 1,\n",
       " 'WABCO': 1,\n",
       " 'Amara': 1,\n",
       " 'Sterlite': 1,\n",
       " 'AIA': 1,\n",
       " 'KRBL': 1,\n",
       " 'Max': 1,\n",
       " 'Century': 2,\n",
       " 'Bayer': 1,\n",
       " 'Graphite': 1,\n",
       " 'Central': 2,\n",
       " 'Natl.': 1,\n",
       " 'CESC': 1,\n",
       " 'Shri.City': 1,\n",
       " 'Rain': 1,\n",
       " 'Torrent': 1,\n",
       " 'Dilip': 1,\n",
       " 'TI': 1,\n",
       " 'JM': 1,\n",
       " 'Syngene': 1,\n",
       " 'Abbott': 1,\n",
       " 'Hatsun': 1,\n",
       " 'Symphony': 1,\n",
       " 'Gujarat': 1,\n",
       " 'Ajanta': 1,\n",
       " 'City': 1,\n",
       " 'Varun': 1,\n",
       " 'Mindtree': 1,\n",
       " 'Prestige': 1,\n",
       " 'Sundram': 1,\n",
       " 'Sanofi': 1,\n",
       " 'Guj.St.Petronet': 1,\n",
       " 'Finolex': 2,\n",
       " 'Bombay': 2,\n",
       " 'SRF': 1,\n",
       " 'GE': 3,\n",
       " 'Alembic': 1,\n",
       " 'SPARC': 1,\n",
       " 'GMR': 1,\n",
       " 'HEG': 1,\n",
       " 'Trent': 1,\n",
       " 'Engineers': 1,\n",
       " 'Avanti': 1,\n",
       " 'Pfizer': 1,\n",
       " 'Escorts': 1,\n",
       " 'Blue': 2,\n",
       " 'Indbull.RealEst.': 1,\n",
       " 'ERIS': 1,\n",
       " 'Arvind': 1,\n",
       " 'Hexaware': 1,\n",
       " 'Mahanagar': 1,\n",
       " 'SKF': 1,\n",
       " 'Delta': 1,\n",
       " 'Union': 1,\n",
       " 'TV18': 1,\n",
       " 'Minda': 2,\n",
       " 'Solar': 1,\n",
       " 'Kajaria': 1,\n",
       " 'Astral': 1,\n",
       " 'Bata': 1,\n",
       " 'Phoenix': 1,\n",
       " 'BASF': 1,\n",
       " 'DCM': 1,\n",
       " 'Infibeam': 1,\n",
       " 'Aegis': 1,\n",
       " 'Mahindra': 3,\n",
       " 'Jet': 1,\n",
       " 'SpiceJet': 1,\n",
       " 'Thomas': 1,\n",
       " 'Guj': 3,\n",
       " 'Wockhardt': 1,\n",
       " 'Akzo': 1,\n",
       " 'Security': 1,\n",
       " 'Asahi': 1,\n",
       " 'TTK': 1,\n",
       " 'ITI': 1,\n",
       " 'Karur': 1,\n",
       " 'Vardhman': 1,\n",
       " 'Fortis': 1,\n",
       " 'Ipca': 1,\n",
       " 'Sheela': 1,\n",
       " 'IRB': 1,\n",
       " 'Atul': 1,\n",
       " 'Dish': 1,\n",
       " 'Rel.': 1,\n",
       " 'OCL': 1,\n",
       " 'NCC': 1,\n",
       " 'Relaxo': 1,\n",
       " 'J': 2,\n",
       " 'G': 3,\n",
       " 'Cochin': 1,\n",
       " 'Birla': 1,\n",
       " 'Kalpataru': 1,\n",
       " 'Suzlon': 1,\n",
       " 'Cyient': 1,\n",
       " 'Hind.Copper': 1,\n",
       " 'Carborundum': 1,\n",
       " 'Can': 1,\n",
       " 'Sadbhav': 2,\n",
       " 'Advanta': 1,\n",
       " 'Capital': 1,\n",
       " 'Lak.': 2,\n",
       " 'Himadri': 1,\n",
       " 'Coffee': 1,\n",
       " 'PVR': 1,\n",
       " 'Chambal': 1,\n",
       " 'Vijaya': 1,\n",
       " 'Welspun': 2,\n",
       " 'CEAT': 1,\n",
       " 'Strides': 1,\n",
       " 'Narayana': 1,\n",
       " 'Jyothy': 1,\n",
       " 'Johnson': 1,\n",
       " 'Prism': 1,\n",
       " 'Syndicate': 1,\n",
       " 'D': 1,\n",
       " 'Jain': 1,\n",
       " 'Persistent': 1,\n",
       " 'Redington': 1,\n",
       " 'Sunteck': 1,\n",
       " 'Raymond': 1,\n",
       " 'MOIL': 1,\n",
       " 'Grindwell': 1,\n",
       " 'EID': 1,\n",
       " 'Galaxy': 1,\n",
       " 'Laurus': 1,\n",
       " 'Timken': 1,\n",
       " 'C': 1,\n",
       " 'Dishman': 2,\n",
       " 'ISGEC': 1,\n",
       " 'MMTC': 1,\n",
       " 'IFB': 1,\n",
       " 'eClerx': 1,\n",
       " 'Sobha': 1,\n",
       " 'Kirloskar': 1,\n",
       " 'CG': 1,\n",
       " 'Westlife': 1,\n",
       " 'K': 1,\n",
       " 'Tube': 1,\n",
       " 'VST': 1,\n",
       " 'BEML': 1,\n",
       " 'FDC': 1,\n",
       " 'DCB': 1,\n",
       " 'Star': 2,\n",
       " 'Netwrk.18': 1,\n",
       " 'Gulf': 1,\n",
       " 'UCO': 1,\n",
       " 'Jagran': 1,\n",
       " 'Elgi': 1,\n",
       " 'JK': 2,\n",
       " 'Zydus': 1,\n",
       " 'Equitas': 1,\n",
       " 'India': 1,\n",
       " 'South': 1,\n",
       " 'Polaris': 1,\n",
       " 'V': 1,\n",
       " 'APL': 1,\n",
       " 'Swan': 1,\n",
       " 'NIIT': 1,\n",
       " 'Caplin': 1,\n",
       " 'Shoppers': 1,\n",
       " 'Godfrey': 1,\n",
       " 'R': 1,\n",
       " 'Rallis': 1,\n",
       " 'Stand.Chart.PLC': 1,\n",
       " 'Manpasand': 1,\n",
       " 'Essel': 1,\n",
       " 'Allcargo': 1,\n",
       " 'Radico': 1,\n",
       " 'Cera': 1,\n",
       " 'BSE': 1,\n",
       " 'Forbes': 1,\n",
       " 'KNR': 1,\n",
       " 'PNC': 1,\n",
       " 'Greenply': 1,\n",
       " 'Ujjivan': 1,\n",
       " 'Monsanto': 1,\n",
       " 'Vinati': 1,\n",
       " 'Lux': 1,\n",
       " 'Linde': 1,\n",
       " 'Ratnamani': 1,\n",
       " 'Cox': 1,\n",
       " 'Omaxe': 1,\n",
       " 'Ashoka': 1,\n",
       " 'Time': 1,\n",
       " 'Phillips': 1,\n",
       " 'Allahabad': 1,\n",
       " 'NESCO': 1,\n",
       " 'CARE': 1,\n",
       " 'JP': 2,\n",
       " 'Andhra': 1,\n",
       " 'Zensar': 1,\n",
       " 'Sintex': 1,\n",
       " 'SREI': 1,\n",
       " 'Techno': 1,\n",
       " 'HMT': 1,\n",
       " 'KPIT': 1,\n",
       " 'Triveni': 1,\n",
       " 'Shankara': 1,\n",
       " 'Multi': 1,\n",
       " 'Brigade': 1,\n",
       " 'Gayatri': 1,\n",
       " 'Magma': 1,\n",
       " 'VRL': 1,\n",
       " 'ICRA': 1,\n",
       " 'IFCI': 1,\n",
       " 'Suprajit': 1,\n",
       " 'Navin': 1,\n",
       " 'Karnataka': 1,\n",
       " 'Shilpa': 1,\n",
       " 'Kushal': 1,\n",
       " \"Venky's\": 1,\n",
       " 'Force': 1,\n",
       " 'CCL': 1,\n",
       " 'Excel': 1,\n",
       " 'Trident': 1,\n",
       " 'Corporation': 1,\n",
       " 'Rane': 1,\n",
       " 'Team': 1,\n",
       " 'Oriental': 1,\n",
       " 'Deepak': 2,\n",
       " 'Heidelberg': 1,\n",
       " 'Amber': 1,\n",
       " 'Sharda': 1,\n",
       " 'Dixon': 1,\n",
       " 'Himatsing.': 1,\n",
       " 'La': 1,\n",
       " 'Rupa': 1,\n",
       " 'Hind.Construct.': 1,\n",
       " 'Ent.Network': 1,\n",
       " 'MAS': 1,\n",
       " 'Thyrocare': 1,\n",
       " 'Prakash': 1,\n",
       " 'Repco': 1,\n",
       " 'Sonata': 1,\n",
       " 'Puravankara': 1,\n",
       " 'Tejas': 1,\n",
       " 'ITD': 1,\n",
       " 'Hathway': 1,\n",
       " 'Dhanuka': 1,\n",
       " 'Heritage': 1,\n",
       " 'Mah.': 1,\n",
       " 'Navneet': 1,\n",
       " 'Firstsour.Solu.': 1,\n",
       " 'Kaveri': 1,\n",
       " 'Va': 1,\n",
       " 'Prime': 1,\n",
       " 'NOCIL': 1,\n",
       " 'Orient': 1,\n",
       " 'Natl.Fertilizer': 1}"
      ]
     },
     "execution_count": 155,
     "metadata": {},
     "output_type": "execute_result"
    }
   ],
   "source": [
    "def count_first_name(df, col_name):\n",
    "    first_name_count = {}\n",
    "    for name in df[col_name]:\n",
    "        first_name = name.split()[0]\n",
    "        if first_name in first_name_count:\n",
    "            first_name_count[first_name] += 1\n",
    "        else:\n",
    "            first_name_count[first_name] = 1\n",
    "    return first_name_count\n",
    "\n",
    "count_first_name(df_fin, 'Name of the Company')"
   ]
  },
  {
   "cell_type": "code",
   "execution_count": 130,
   "id": "0498ca0d",
   "metadata": {},
   "outputs": [],
   "source": [
    "#Filter the rows that contain the keyword 'Tata' in the 'Name of the Company' column\n",
    "tata_data = df_fin[df_fin['Name of the Company'].str.contains('Tata')]\n",
    "reliance_data = df_fin[df_fin['Name of the Company'].str.contains('Reliance')]"
   ]
  },
  {
   "cell_type": "code",
   "execution_count": 137,
   "id": "1fc21c6e",
   "metadata": {},
   "outputs": [
    {
     "name": "stderr",
     "output_type": "stream",
     "text": [
      "C:\\Users\\ADMIN\\AppData\\Local\\Temp\\ipykernel_8888\\2038304439.py:1: FutureWarning: Dropping of nuisance columns in DataFrame reductions (with 'numeric_only=None') is deprecated; in a future version this will raise TypeError.  Select only valid columns before calling the reduction.\n",
      "  Tata_industries = tata_data.mean()\n"
     ]
    },
    {
     "data": {
      "text/plain": [
       "Mar Cap - Crore         31923.200000\n",
       "Sales Qtr - Crore       14598.062222\n",
       "Quaterly Sale- Crore      629.513333\n",
       "dtype: float64"
      ]
     },
     "execution_count": 137,
     "metadata": {},
     "output_type": "execute_result"
    }
   ],
   "source": [
    "Tata_industries = tata_data.mean()\n",
    "Tata_industries"
   ]
  },
  {
   "cell_type": "code",
   "execution_count": 139,
   "id": "3669dd6e",
   "metadata": {},
   "outputs": [
    {
     "name": "stderr",
     "output_type": "stream",
     "text": [
      "C:\\Users\\ADMIN\\AppData\\Local\\Temp\\ipykernel_8888\\1858897557.py:1: FutureWarning: Dropping of nuisance columns in DataFrame reductions (with 'numeric_only=None') is deprecated; in a future version this will raise TypeError.  Select only valid columns before calling the reduction.\n",
      "  Reliance_industries=reliance_data.mean()\n"
     ]
    },
    {
     "data": {
      "text/plain": [
       "Mar Cap - Crore         106550.160000\n",
       "Sales Qtr - Crore        18951.948333\n",
       "Quaterly Sale- Crore       702.325000\n",
       "dtype: float64"
      ]
     },
     "execution_count": 139,
     "metadata": {},
     "output_type": "execute_result"
    }
   ],
   "source": [
    "Reliance_industries=reliance_data.mean()\n",
    "Reliance_industries"
   ]
  },
  {
   "cell_type": "code",
   "execution_count": 144,
   "id": "e088fa85",
   "metadata": {},
   "outputs": [
    {
     "data": {
      "text/html": [
       "<div>\n",
       "<style scoped>\n",
       "    .dataframe tbody tr th:only-of-type {\n",
       "        vertical-align: middle;\n",
       "    }\n",
       "\n",
       "    .dataframe tbody tr th {\n",
       "        vertical-align: top;\n",
       "    }\n",
       "\n",
       "    .dataframe thead th {\n",
       "        text-align: right;\n",
       "    }\n",
       "</style>\n",
       "<table border=\"1\" class=\"dataframe\">\n",
       "  <thead>\n",
       "    <tr style=\"text-align: right;\">\n",
       "      <th></th>\n",
       "      <th>Company</th>\n",
       "      <th>Mar Cap - Crore</th>\n",
       "      <th>Sales Qtr - Crore</th>\n",
       "      <th>Quaterly Sale- Crore</th>\n",
       "    </tr>\n",
       "  </thead>\n",
       "  <tbody>\n",
       "    <tr>\n",
       "      <th>0</th>\n",
       "      <td>Reliance Industries</td>\n",
       "      <td>106550.16</td>\n",
       "      <td>18951.948333</td>\n",
       "      <td>629.513333</td>\n",
       "    </tr>\n",
       "    <tr>\n",
       "      <th>1</th>\n",
       "      <td>Tata Industries</td>\n",
       "      <td>31923.20</td>\n",
       "      <td>14598.062222</td>\n",
       "      <td>702.325000</td>\n",
       "    </tr>\n",
       "  </tbody>\n",
       "</table>\n",
       "</div>"
      ],
      "text/plain": [
       "               Company  Mar Cap - Crore  Sales Qtr - Crore  \\\n",
       "0  Reliance Industries        106550.16       18951.948333   \n",
       "1      Tata Industries         31923.20       14598.062222   \n",
       "\n",
       "   Quaterly Sale- Crore  \n",
       "0            629.513333  \n",
       "1            702.325000  "
      ]
     },
     "execution_count": 144,
     "metadata": {},
     "output_type": "execute_result"
    }
   ],
   "source": [
    "# Create a dataframe from the provided data\n",
    "industries = {'Company': ['Reliance Industries', 'Tata Industries'],\n",
    "        'Mar Cap - Crore': [106550.16, 31923.2],\n",
    "        'Sales Qtr - Crore': [18951.948333, 14598.062222],\n",
    "        'Quaterly Sale- Crore' : [629.513333,702.325000]\n",
    "        }\n",
    "df = pd.DataFrame(industries, columns = ['Company', 'Mar Cap - Crore','Sales Qtr - Crore','Quaterly Sale- Crore'])\n",
    "df"
   ]
  },
  {
   "cell_type": "code",
   "execution_count": 153,
   "id": "2dc07bb3",
   "metadata": {},
   "outputs": [
    {
     "data": {
      "image/png": "[encoded data removed]",
      "text/plain": [
       "<Figure size 432x288 with 1 Axes>"
      ]
     },
     "metadata": {
      "needs_background": "light"
     },
     "output_type": "display_data"
    }
   ],
   "source": [
    "# Create the bar chart\n",
    "sns.barplot(x=\"Company\", y=\"Mar Cap - Crore\", data=df)\n",
    "\n",
    "plt.xlabel('Company')\n",
    "plt.ylabel('Values')\n",
    "plt.title('Mar Cap - Crore')\n",
    "plt.show()"
   ]
  },
  {
   "cell_type": "code",
   "execution_count": 151,
   "id": "2d7fad5b",
   "metadata": {},
   "outputs": [
    {
     "data": {
      "image/png": "[encoded data removed]",
      "text/plain": [
       "<Figure size 432x288 with 1 Axes>"
      ]
     },
     "metadata": {
      "needs_background": "light"
     },
     "output_type": "display_data"
    }
   ],
   "source": [
    "sns.barplot(x=\"Company\", y=\"Sales Qtr - Crore\", data=df)\n",
    "plt.xlabel('Company')\n",
    "plt.ylabel('Values')\n",
    "plt.title('Sales Qtr - Crore')\n",
    "plt.show()"
   ]
  },
  {
   "cell_type": "code",
   "execution_count": 154,
   "id": "2fcbc8a3",
   "metadata": {},
   "outputs": [
    {
     "data": {
      "image/png": "[encoded data removed]",
      "text/plain": [
       "<Figure size 432x288 with 1 Axes>"
      ]
     },
     "metadata": {
      "needs_background": "light"
     },
     "output_type": "display_data"
    }
   ],
   "source": [
    "sns.barplot(x=\"Company\", y=\"Quaterly Sale- Crore\", data=df)\n",
    "plt.xlabel('Company')\n",
    "plt.ylabel('Values')\n",
    "plt.title('Quaterly Sale- Crore')\n",
    "plt.show()"
   ]
  },
  {
   "cell_type": "markdown",
   "id": "892bb05f",
   "metadata": {},
   "source": [
    "## Comparison between the industries to identify the potential opportunties for growth."
   ]
  },
  {
   "cell_type": "code",
   "execution_count": 179,
   "id": "def13692",
   "metadata": {},
   "outputs": [
    {
     "name": "stdout",
     "output_type": "stream",
     "text": [
      "The number of Banks are:  31\n",
      "The number of Automotive companies are: 5\n",
      "The number of Power companies are: 10\n",
      "The number of Steel companies are: 3\n",
      "The number of Gas companies are: 3\n",
      "The number of Pharmaceutical companies are: 8\n",
      "The number of Tech companies are: 15\n"
     ]
    }
   ],
   "source": [
    "Bank = df_fin[df_fin['Name of the Company'].str.contains('Bank')]['Name of the Company'].value_counts().sum()\n",
    "Automotive = df_fin[df_fin['Name of the Company'].str.contains('Motor')]['Name of the Company'].value_counts().sum()\n",
    "Power= df_fin[df_fin['Name of the Company'].str.contains('Power')]['Name of the Company'].value_counts().sum()\n",
    "Steel = df_fin[df_fin['Name of the Company'].str.contains('Steel')]['Name of the Company'].value_counts().sum()\n",
    "Gas = df_fin[df_fin['Name of the Company'].str.contains('Gas')]['Name of the Company'].value_counts().sum()\n",
    "Pharma = df_fin[df_fin['Name of the Company'].str.contains('Pharma')]['Name of the Company'].value_counts().sum()\n",
    "Technology = df_fin[df_fin['Name of the Company'].str.contains('Tech')]['Name of the Company'].value_counts().sum()\n",
    "print(\"The number of Banks are: \",Bank)\n",
    "print(\"The number of Automotive companies are:\",Automotive)\n",
    "print(\"The number of Power companies are:\",Power)\n",
    "print(\"The number of Steel companies are:\",Steel)\n",
    "print(\"The number of Gas companies are:\",Gas)\n",
    "print(\"The number of Pharmaceutical companies are:\",Pharma)\n",
    "print(\"The number of Tech companies are:\",Technology)"
   ]
  },
  {
   "cell_type": "code",
   "execution_count": 181,
   "id": "47c2ca7e",
   "metadata": {},
   "outputs": [],
   "source": [
    "Bank_data= df_fin[df_fin['Name of the Company'].str.contains('Bank')]\n",
    "Automotive_data = df_fin[df_fin['Name of the Company'].str.contains('Motor')]\n",
    "Power_data = df_fin[df_fin['Name of the Company'].str.contains('Power')]\n",
    "Steel_data = df_fin[df_fin['Name of the Company'].str.contains('Steel')]\n",
    "Gas_data = df_fin[df_fin['Name of the Company'].str.contains('Gas')]\n",
    "Pharma_data = df_fin[df_fin['Name of the Company'].str.contains('Pharma')]\n",
    "Technology_data = df_fin[df_fin['Name of the Company'].str.contains('Tech')]"
   ]
  },
  {
   "cell_type": "code",
   "execution_count": 183,
   "id": "f5e9037a",
   "metadata": {},
   "outputs": [
    {
     "name": "stderr",
     "output_type": "stream",
     "text": [
      "C:\\Users\\ADMIN\\AppData\\Local\\Temp\\ipykernel_8888\\3679764377.py:2: FutureWarning: Dropping of nuisance columns in DataFrame reductions (with 'numeric_only=None') is deprecated; in a future version this will raise TypeError.  Select only valid columns before calling the reduction.\n",
      "  Bank_data.mean()\n"
     ]
    },
    {
     "data": {
      "text/plain": [
       "Mar Cap - Crore         47457.725806\n",
       "Sales Qtr - Crore        5605.658710\n",
       "Quaterly Sale- Crore      707.584194\n",
       "dtype: float64"
      ]
     },
     "execution_count": 183,
     "metadata": {},
     "output_type": "execute_result"
    }
   ],
   "source": [
    "## Getting the mean of all the industries.\n",
    "Bank_data.mean()"
   ]
  },
  {
   "cell_type": "code",
   "execution_count": 184,
   "id": "68ec7d59",
   "metadata": {},
   "outputs": [
    {
     "name": "stderr",
     "output_type": "stream",
     "text": [
      "C:\\Users\\ADMIN\\AppData\\Local\\Temp\\ipykernel_8888\\3758817326.py:1: FutureWarning: Dropping of nuisance columns in DataFrame reductions (with 'numeric_only=None') is deprecated; in a future version this will raise TypeError.  Select only valid columns before calling the reduction.\n",
      "  Automotive_data.mean()\n"
     ]
    },
    {
     "data": {
      "text/plain": [
       "Mar Cap - Crore         48325.986\n",
       "Sales Qtr - Crore       17350.270\n",
       "Quaterly Sale- Crore     1298.850\n",
       "dtype: float64"
      ]
     },
     "execution_count": 184,
     "metadata": {},
     "output_type": "execute_result"
    }
   ],
   "source": [
    "Automotive_data.mean()"
   ]
  },
  {
   "cell_type": "code",
   "execution_count": 185,
   "id": "0d0945e2",
   "metadata": {},
   "outputs": [
    {
     "name": "stderr",
     "output_type": "stream",
     "text": [
      "C:\\Users\\ADMIN\\AppData\\Local\\Temp\\ipykernel_8888\\4046150404.py:1: FutureWarning: Dropping of nuisance columns in DataFrame reductions (with 'numeric_only=None') is deprecated; in a future version this will raise TypeError.  Select only valid columns before calling the reduction.\n",
      "  Power_data.mean()\n"
     ]
    },
    {
     "data": {
      "text/plain": [
       "Mar Cap - Crore         21121.285\n",
       "Sales Qtr - Crore        3623.543\n",
       "Quaterly Sale- Crore      702.325\n",
       "dtype: float64"
      ]
     },
     "execution_count": 185,
     "metadata": {},
     "output_type": "execute_result"
    }
   ],
   "source": [
    "Power_data.mean()"
   ]
  },
  {
   "cell_type": "code",
   "execution_count": 186,
   "id": "c9f40c7d",
   "metadata": {},
   "outputs": [
    {
     "name": "stderr",
     "output_type": "stream",
     "text": [
      "C:\\Users\\ADMIN\\AppData\\Local\\Temp\\ipykernel_8888\\1894152454.py:1: FutureWarning: Dropping of nuisance columns in DataFrame reductions (with 'numeric_only=None') is deprecated; in a future version this will raise TypeError.  Select only valid columns before calling the reduction.\n",
      "  Steel_data.mean()\n"
     ]
    },
    {
     "data": {
      "text/plain": [
       "Mar Cap - Crore         56780.263333\n",
       "Sales Qtr - Crore       19105.900000\n",
       "Quaterly Sale- Crore      702.325000\n",
       "dtype: float64"
      ]
     },
     "execution_count": 186,
     "metadata": {},
     "output_type": "execute_result"
    }
   ],
   "source": [
    "Steel_data.mean()"
   ]
  },
  {
   "cell_type": "code",
   "execution_count": 187,
   "id": "25452d1d",
   "metadata": {},
   "outputs": [
    {
     "name": "stderr",
     "output_type": "stream",
     "text": [
      "C:\\Users\\ADMIN\\AppData\\Local\\Temp\\ipykernel_8888\\85756220.py:1: FutureWarning: Dropping of nuisance columns in DataFrame reductions (with 'numeric_only=None') is deprecated; in a future version this will raise TypeError.  Select only valid columns before calling the reduction.\n",
      "  Gas_data.mean()\n"
     ]
    },
    {
     "data": {
      "text/plain": [
       "Mar Cap - Crore         14141.446667\n",
       "Sales Qtr - Crore        1344.510000\n",
       "Quaterly Sale- Crore      702.325000\n",
       "dtype: float64"
      ]
     },
     "execution_count": 187,
     "metadata": {},
     "output_type": "execute_result"
    }
   ],
   "source": [
    "Gas_data.mean()"
   ]
  },
  {
   "cell_type": "code",
   "execution_count": 188,
   "id": "e05407af",
   "metadata": {},
   "outputs": [
    {
     "name": "stderr",
     "output_type": "stream",
     "text": [
      "C:\\Users\\ADMIN\\AppData\\Local\\Temp\\ipykernel_8888\\2254106613.py:1: FutureWarning: Dropping of nuisance columns in DataFrame reductions (with 'numeric_only=None') is deprecated; in a future version this will raise TypeError.  Select only valid columns before calling the reduction.\n",
      "  Pharma_data.mean()\n"
     ]
    },
    {
     "data": {
      "text/plain": [
       "Mar Cap - Crore         30615.868750\n",
       "Sales Qtr - Crore        1814.622500\n",
       "Quaterly Sale- Crore     1156.244375\n",
       "dtype: float64"
      ]
     },
     "execution_count": 188,
     "metadata": {},
     "output_type": "execute_result"
    }
   ],
   "source": [
    "Pharma_data.mean()"
   ]
  },
  {
   "cell_type": "code",
   "execution_count": 189,
   "id": "3f703c25",
   "metadata": {},
   "outputs": [
    {
     "name": "stderr",
     "output_type": "stream",
     "text": [
      "C:\\Users\\ADMIN\\AppData\\Local\\Temp\\ipykernel_8888\\2750828425.py:1: FutureWarning: Dropping of nuisance columns in DataFrame reductions (with 'numeric_only=None') is deprecated; in a future version this will raise TypeError.  Select only valid columns before calling the reduction.\n",
      "  Technology_data.mean()\n"
     ]
    },
    {
     "data": {
      "text/plain": [
       "Mar Cap - Crore         24897.047333\n",
       "Sales Qtr - Crore        2583.740667\n",
       "Quaterly Sale- Crore      727.213333\n",
       "dtype: float64"
      ]
     },
     "execution_count": 189,
     "metadata": {},
     "output_type": "execute_result"
    }
   ],
   "source": [
    "Technology_data.mean()"
   ]
  },
  {
   "cell_type": "code",
   "execution_count": 212,
   "id": "68eba480",
   "metadata": {},
   "outputs": [
    {
     "name": "stderr",
     "output_type": "stream",
     "text": [
      "C:\\Users\\ADMIN\\AppData\\Local\\Temp\\ipykernel_8888\\3118648952.py:1: FutureWarning: Dropping of nuisance columns in DataFrame reductions (with 'numeric_only=None') is deprecated; in a future version this will raise TypeError.  Select only valid columns before calling the reduction.\n",
      "  a = Bank_data.mean()\n",
      "C:\\Users\\ADMIN\\AppData\\Local\\Temp\\ipykernel_8888\\3118648952.py:2: FutureWarning: Dropping of nuisance columns in DataFrame reductions (with 'numeric_only=None') is deprecated; in a future version this will raise TypeError.  Select only valid columns before calling the reduction.\n",
      "  b= Automotive_data.mean()\n",
      "C:\\Users\\ADMIN\\AppData\\Local\\Temp\\ipykernel_8888\\3118648952.py:3: FutureWarning: Dropping of nuisance columns in DataFrame reductions (with 'numeric_only=None') is deprecated; in a future version this will raise TypeError.  Select only valid columns before calling the reduction.\n",
      "  c = Power_data.mean()\n",
      "C:\\Users\\ADMIN\\AppData\\Local\\Temp\\ipykernel_8888\\3118648952.py:4: FutureWarning: Dropping of nuisance columns in DataFrame reductions (with 'numeric_only=None') is deprecated; in a future version this will raise TypeError.  Select only valid columns before calling the reduction.\n",
      "  d =Steel_data.mean()\n",
      "C:\\Users\\ADMIN\\AppData\\Local\\Temp\\ipykernel_8888\\3118648952.py:5: FutureWarning: Dropping of nuisance columns in DataFrame reductions (with 'numeric_only=None') is deprecated; in a future version this will raise TypeError.  Select only valid columns before calling the reduction.\n",
      "  e = Gas_data.mean()\n",
      "C:\\Users\\ADMIN\\AppData\\Local\\Temp\\ipykernel_8888\\3118648952.py:6: FutureWarning: Dropping of nuisance columns in DataFrame reductions (with 'numeric_only=None') is deprecated; in a future version this will raise TypeError.  Select only valid columns before calling the reduction.\n",
      "  f = Pharma_data.mean()\n",
      "C:\\Users\\ADMIN\\AppData\\Local\\Temp\\ipykernel_8888\\3118648952.py:7: FutureWarning: Dropping of nuisance columns in DataFrame reductions (with 'numeric_only=None') is deprecated; in a future version this will raise TypeError.  Select only valid columns before calling the reduction.\n",
      "  g = Technology_data.mean()\n"
     ]
    }
   ],
   "source": [
    "a = Bank_data.mean()\n",
    "b= Automotive_data.mean()\n",
    "c = Power_data.mean()\n",
    "d =Steel_data.mean()\n",
    "e = Gas_data.mean()\n",
    "f = Pharma_data.mean()\n",
    "g = Technology_data.mean()"
   ]
  },
  {
   "cell_type": "code",
   "execution_count": 222,
   "id": "0670f7a5",
   "metadata": {},
   "outputs": [
    {
     "data": {
      "text/html": [
       "<div>\n",
       "<style scoped>\n",
       "    .dataframe tbody tr th:only-of-type {\n",
       "        vertical-align: middle;\n",
       "    }\n",
       "\n",
       "    .dataframe tbody tr th {\n",
       "        vertical-align: top;\n",
       "    }\n",
       "\n",
       "    .dataframe thead th {\n",
       "        text-align: right;\n",
       "    }\n",
       "</style>\n",
       "<table border=\"1\" class=\"dataframe\">\n",
       "  <thead>\n",
       "    <tr style=\"text-align: right;\">\n",
       "      <th></th>\n",
       "      <th>Bank</th>\n",
       "      <th>Automotive</th>\n",
       "      <th>Power</th>\n",
       "      <th>Steel</th>\n",
       "      <th>Gas</th>\n",
       "      <th>Pharma</th>\n",
       "      <th>Technology</th>\n",
       "    </tr>\n",
       "  </thead>\n",
       "  <tbody>\n",
       "    <tr>\n",
       "      <th>Mar Cap - Crore</th>\n",
       "      <td>47457.725806</td>\n",
       "      <td>48325.986</td>\n",
       "      <td>21121.285</td>\n",
       "      <td>56780.263333</td>\n",
       "      <td>14141.446667</td>\n",
       "      <td>30615.868750</td>\n",
       "      <td>24897.047333</td>\n",
       "    </tr>\n",
       "    <tr>\n",
       "      <th>Sales Qtr - Crore</th>\n",
       "      <td>5605.658710</td>\n",
       "      <td>17350.270</td>\n",
       "      <td>3623.543</td>\n",
       "      <td>19105.900000</td>\n",
       "      <td>1344.510000</td>\n",
       "      <td>1814.622500</td>\n",
       "      <td>2583.740667</td>\n",
       "    </tr>\n",
       "    <tr>\n",
       "      <th>Quaterly Sale- Crore</th>\n",
       "      <td>707.584194</td>\n",
       "      <td>1298.850</td>\n",
       "      <td>702.325</td>\n",
       "      <td>702.325000</td>\n",
       "      <td>702.325000</td>\n",
       "      <td>1156.244375</td>\n",
       "      <td>727.213333</td>\n",
       "    </tr>\n",
       "  </tbody>\n",
       "</table>\n",
       "</div>"
      ],
      "text/plain": [
       "                              Bank  Automotive      Power         Steel  \\\n",
       "Mar Cap - Crore       47457.725806   48325.986  21121.285  56780.263333   \n",
       "Sales Qtr - Crore      5605.658710   17350.270   3623.543  19105.900000   \n",
       "Quaterly Sale- Crore    707.584194    1298.850    702.325    702.325000   \n",
       "\n",
       "                               Gas        Pharma    Technology  \n",
       "Mar Cap - Crore       14141.446667  30615.868750  24897.047333  \n",
       "Sales Qtr - Crore      1344.510000   1814.622500   2583.740667  \n",
       "Quaterly Sale- Crore    702.325000   1156.244375    727.213333  "
      ]
     },
     "execution_count": 222,
     "metadata": {},
     "output_type": "execute_result"
    }
   ],
   "source": [
    "merged_df = pd.concat([a, b, c, d, e, f, g], axis=1)\n",
    "merged_df.rename(columns={0: \"Bank\", 1:\"Automotive\", 2: \"Power\", \n",
    "                          3: \"Steel\", 4: \"Gas\", 5: \"Pharma\", 6: \"Technology\"}, inplace = True)\n",
    "merged_df"
   ]
  },
  {
   "cell_type": "code",
   "execution_count": 227,
   "id": "85ad6d04",
   "metadata": {},
   "outputs": [
    {
     "data": {
      "image/png": "[encoded data removed]",
      "text/plain": [
       "<Figure size 1080x576 with 1 Axes>"
      ]
     },
     "metadata": {
      "needs_background": "light"
     },
     "output_type": "display_data"
    }
   ],
   "source": [
    "merged_df.plot(kind = 'bar', figsize=(15, 8))\n",
    "plt.xlabel('Name of the Factor')\n",
    "plt.ylabel('Values in Crore')\n",
    "plt.title('Comparison between the Industries')\n",
    "plt.show()"
   ]
  },
  {
   "cell_type": "markdown",
   "id": "563ce060",
   "metadata": {},
   "source": [
    "## Summary\n",
    "1. Understood the relationship between Market Capitalization and Sales and we can conclude from this that Reliance Inds has more market capitalization and IOCL has more Sales as compare to the other companies.\n",
    "2. From the correlatin analysis we can understand that as the market capitalization of a company increases, its quarterly sales also tend to increase.\n",
    "3. By comparing between the industries to identify the potential opportunties for growth we can conclude that Steel industry has more sales than the other industry."
   ]
  }
 ],
 "metadata": {
  "kernelspec": {
   "display_name": "Python 3 (ipykernel)",
   "language": "python",
   "name": "python3"
  },
  "language_info": {
   "codemirror_mode": {
    "name": "ipython",
    "version": 3
   },
   "file_extension": ".py",
   "mimetype": "text/x-python",
   "name": "python",
   "nbconvert_exporter": "python",
   "pygments_lexer": "ipython3",
   "version": "3.9.12"
  }
 },
 "nbformat": 4,
 "nbformat_minor": 5
}
